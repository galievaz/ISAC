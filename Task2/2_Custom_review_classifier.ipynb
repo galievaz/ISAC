{
  "nbformat": 4,
  "nbformat_minor": 0,
  "metadata": {
    "kernelspec": {
      "display_name": "Python 3",
      "language": "python",
      "name": "python3"
    },
    "language_info": {
      "codemirror_mode": {
        "name": "ipython",
        "version": 3
      },
      "file_extension": ".py",
      "mimetype": "text/x-python",
      "name": "python",
      "nbconvert_exporter": "python",
      "pygments_lexer": "ipython3",
      "version": "3.8.1"
    },
    "colab": {
      "name": "Task 2 Custom review classifier.ipynb",
      "provenance": [],
      "include_colab_link": true
    }
  },
  "cells": [
    {
      "cell_type": "markdown",
      "metadata": {
        "id": "view-in-github",
        "colab_type": "text"
      },
      "source": [
        "<a href=\"https://colab.research.google.com/github/galievaz/ISAC/blob/master/Task2/2_Custom_review_classifier.ipynb\" target=\"_parent\"><img src=\"https://colab.research.google.com/assets/colab-badge.svg\" alt=\"Open In Colab\"/></a>"
      ]
    },
    {
      "cell_type": "code",
      "metadata": {
        "id": "1-QoQ-khk1L6",
        "colab_type": "code",
        "colab": {}
      },
      "source": [
        "\n",
        "import pandas as pd\n",
        "import numpy as np\n",
        "import matplotlib.pyplot as plt\n",
        "import math\n",
        "import random"
      ],
      "execution_count": null,
      "outputs": []
    },
    {
      "cell_type": "code",
      "metadata": {
        "id": "aRwFbM43k1MH",
        "colab_type": "code",
        "colab": {}
      },
      "source": [
        "#loading the dataset\n",
        "dataset = pd.read_csv(\"6-reviews_amazon_stars.csv\")\n"
      ],
      "execution_count": null,
      "outputs": []
    },
    {
      "cell_type": "code",
      "metadata": {
        "id": "HrZhvu0-k1MP",
        "colab_type": "code",
        "colab": {},
        "outputId": "901df85e-8e74-4429-fd88-44f8eb01adf8"
      },
      "source": [
        "print(dataset.info())"
      ],
      "execution_count": null,
      "outputs": [
        {
          "output_type": "stream",
          "text": [
            "<class 'pandas.core.frame.DataFrame'>\n",
            "RangeIndex: 49985 entries, 0 to 49984\n",
            "Data columns (total 2 columns):\n",
            "star    49985 non-null int64\n",
            "text    49985 non-null object\n",
            "dtypes: int64(1), object(1)\n",
            "memory usage: 781.1+ KB\n",
            "None\n"
          ],
          "name": "stdout"
        }
      ]
    },
    {
      "cell_type": "code",
      "metadata": {
        "id": "a7kdpuhgk1Mc",
        "colab_type": "code",
        "colab": {},
        "outputId": "dd038d41-5a35-4ee4-ca37-ac4e53d662f7"
      },
      "source": [
        "print(dataset.head())"
      ],
      "execution_count": null,
      "outputs": [
        {
          "output_type": "stream",
          "text": [
            "   star                                               text\n",
            "0     4  Sometimes sticks a little on my Samsung Nexus,...\n",
            "1     3  Sometimes you have to push down on the keys fo...\n",
            "2     4  The stylus is excellent. It works as well as d...\n",
            "3     4  Bought this product about 10 months ago and st...\n",
            "4     5  This is an expensive stylus, so I'm hesitant t...\n"
          ],
          "name": "stdout"
        }
      ]
    },
    {
      "cell_type": "code",
      "metadata": {
        "id": "KNxVuUpFk1Mk",
        "colab_type": "code",
        "colab": {},
        "outputId": "a1297e27-e83d-4d52-a8c1-004da7a19983"
      },
      "source": [
        "print(dataset.describe())"
      ],
      "execution_count": null,
      "outputs": [
        {
          "output_type": "stream",
          "text": [
            "               star\n",
            "count  49985.000000\n",
            "mean       3.748765\n",
            "std        1.488922\n",
            "min        1.000000\n",
            "25%        3.000000\n",
            "50%        4.000000\n",
            "75%        5.000000\n",
            "max        5.000000\n"
          ],
          "name": "stdout"
        }
      ]
    },
    {
      "cell_type": "markdown",
      "metadata": {
        "id": "TSN8XlEck1Mq",
        "colab_type": "text"
      },
      "source": [
        "\"\"\" cleaning the dataset is like preparing our dataset to apply our machine learning model. The step include:\n",
        "1. Get rid of the punctuations as this create many confusions of the words and difficult to understand.\n",
        "2. steaming the dataset like sorting some words like loved, liked and converting them to love and like respectively.\n",
        "3. converting all the uppercase letter to lower case letter.\n",
        "4. get reid of the nuumbers, unless they are not relevent.\n",
        "5. we will construct columns for each associated word and will count if it appears in the review or not. this will create more\n",
        "zeros in our columns.\n",
        "6. we will use sparse matrix as most of the part we will be having 0's as most are new words\"\"\"\n",
        "\n"
      ]
    },
    {
      "cell_type": "code",
      "metadata": {
        "id": "YZDLVpWrk1Ms",
        "colab_type": "code",
        "colab": {}
      },
      "source": [
        "#cleaning the texts\n",
        "#importing re as its is most used library to clean text.\n",
        "import re\n",
        "review = re.sub(\"[^a-zA-Z]\", \" \",  dataset[\"text\"][0])\n",
        "\n",
        "\n"
      ],
      "execution_count": null,
      "outputs": []
    },
    {
      "cell_type": "code",
      "metadata": {
        "id": "ikmKDsKHk1Mz",
        "colab_type": "code",
        "colab": {},
        "outputId": "1e01cfba-5a59-4ec5-9e53-4ebf611c54f6"
      },
      "source": [
        "print(review)"
      ],
      "execution_count": null,
      "outputs": [
        {
          "output_type": "stream",
          "text": [
            "Sometimes sticks a little on my Samsung Nexus  but overall works very well  Also really like the built in pen feature \n"
          ],
          "name": "stdout"
        }
      ]
    },
    {
      "cell_type": "code",
      "metadata": {
        "id": "vz6JuvfHk1M9",
        "colab_type": "code",
        "colab": {},
        "outputId": "ad013678-94b2-424f-e233-cd1618aad600"
      },
      "source": [
        "# the next process will be to convert all the letter to a lower case letter\n",
        "review = review.lower()\n",
        "print(review)"
      ],
      "execution_count": null,
      "outputs": [
        {
          "output_type": "stream",
          "text": [
            "sometimes sticks a little on my samsung nexus  but overall works very well  also really like the built in pen feature \n"
          ],
          "name": "stdout"
        }
      ]
    },
    {
      "cell_type": "code",
      "metadata": {
        "id": "J3VZnn8ik1NI",
        "colab_type": "code",
        "colab": {},
        "outputId": "41281eb9-80bd-457a-a33a-db30ccfc25ca"
      },
      "source": [
        "# now in the next process we will get rid of word which are of no use to us to judge the review like article, prepositions, etc.\n",
        "#we need a library which contain most functions of NLP calles nltk\n",
        "import nltk\n",
        "nltk.download(\"stopwords\")\n"
      ],
      "execution_count": null,
      "outputs": [
        {
          "output_type": "stream",
          "text": [
            "[nltk_data] Downloading package stopwords to\n",
            "[nltk_data]     C:\\Users\\128524\\AppData\\Roaming\\nltk_data...\n",
            "[nltk_data]   Package stopwords is already up-to-date!\n"
          ],
          "name": "stderr"
        },
        {
          "output_type": "execute_result",
          "data": {
            "text/plain": [
              "True"
            ]
          },
          "metadata": {
            "tags": []
          },
          "execution_count": 99
        }
      ]
    },
    {
      "cell_type": "code",
      "metadata": {
        "id": "uNCkDkqek1NR",
        "colab_type": "code",
        "colab": {},
        "outputId": "7275f6b9-4ee7-4cbd-e041-1d2a7e792ad0"
      },
      "source": [
        "\"\"\" now we will run a for loop for all the review for the same process we done above for 1st review\"\"\"\n",
        "review =review.split()\n",
        "print(review)\n"
      ],
      "execution_count": null,
      "outputs": [
        {
          "output_type": "stream",
          "text": [
            "['sometimes', 'sticks', 'a', 'little', 'on', 'my', 'samsung', 'nexus', 'but', 'overall', 'works', 'very', 'well', 'also', 'really', 'like', 'the', 'built', 'in', 'pen', 'feature']\n"
          ],
          "name": "stdout"
        }
      ]
    },
    {
      "cell_type": "code",
      "metadata": {
        "id": "HpUiGZLsk1Na",
        "colab_type": "code",
        "colab": {},
        "outputId": "63883cea-0951-4966-bd97-73f8c68e46de"
      },
      "source": [
        "from nltk.corpus import stopwords\n",
        "review = [word for word in review if not word in set(stopwords.words(\"english\"))]\n",
        "#the set function is used to speedup the algo as it guide fot the set of words in the list\n",
        "print(review)"
      ],
      "execution_count": null,
      "outputs": [
        {
          "output_type": "stream",
          "text": [
            "['sometimes', 'sticks', 'little', 'samsung', 'nexus', 'overall', 'works', 'well', 'also', 'really', 'like', 'built', 'pen', 'feature']\n"
          ],
          "name": "stdout"
        }
      ]
    },
    {
      "cell_type": "code",
      "metadata": {
        "id": "57rBbeXfk1Nh",
        "colab_type": "code",
        "colab": {},
        "outputId": "a316d3ed-7d99-4762-92b7-f91c0018f332"
      },
      "source": [
        "#now appling stemming. we need to import porterstemmer\n",
        "from nltk.stem.porter import PorterStemmer\n",
        "#we will redesign our algorithem as the above process was to make understanding and now we can have a fun algorithem here.\n",
        "ps = PorterStemmer()\n",
        "#review = [ps.stem(word) for word in review if not word in set(stopwords.words(\"english\"))]\n",
        "print(review)"
      ],
      "execution_count": null,
      "outputs": [
        {
          "output_type": "stream",
          "text": [
            "['sometimes', 'sticks', 'little', 'samsung', 'nexus', 'overall', 'works', 'well', 'also', 'really', 'like', 'built', 'pen', 'feature']\n"
          ],
          "name": "stdout"
        }
      ]
    },
    {
      "cell_type": "code",
      "metadata": {
        "id": "rrxv_b2Ik1Nv",
        "colab_type": "code",
        "colab": {},
        "outputId": "e097a308-e089-432d-e171-100afac7e31e"
      },
      "source": [
        "#we will make a list containg all the words and so we use join command with space as to seperate the words for join in single word.\n",
        "review = \" \".join(review)\n",
        "print(review)"
      ],
      "execution_count": null,
      "outputs": [
        {
          "output_type": "stream",
          "text": [
            "sometimes sticks little samsung nexus overall works well also really like built pen feature\n"
          ],
          "name": "stdout"
        }
      ]
    },
    {
      "cell_type": "code",
      "metadata": {
        "id": "kCCe8X04k1N3",
        "colab_type": "code",
        "colab": {}
      },
      "source": [
        "#the same process we will perform for all 1000 review.\n",
        "#we will make a list for all 1000 reviews names corpus\n",
        "corpus = []\n",
        "for i in range(len(dataset['star'])):\n",
        "    review_1 = re.sub(r'[^a-zA-Z]', ' ', dataset['text'][i])\n",
        "    review_1 = review_1.lower()\n",
        "    review_1 = review_1.split()\n",
        "    ps = PorterStemmer()\n",
        "    #review_1 = [ps.stem(word) for word in review_1 if not word in set(stopwords.words('english'))]\n",
        "    review_1 = ' '.join(review_1)\n",
        "    corpus.append(review_1)\n",
        "    "
      ],
      "execution_count": null,
      "outputs": []
    },
    {
      "cell_type": "code",
      "metadata": {
        "id": "2jifAHHbk1N-",
        "colab_type": "code",
        "colab": {},
        "outputId": "b926cfed-eb8b-4d3c-dc0d-b0d96f6492e1"
      },
      "source": [
        "corpus[:10]"
      ],
      "execution_count": null,
      "outputs": [
        {
          "output_type": "execute_result",
          "data": {
            "text/plain": [
              "['sometimes sticks a little on my samsung nexus but overall works very well also really like the built in pen feature',\n",
              " 'sometimes you have to push down on the keys for it to work very cheap next time i will get a tip made from rubber',\n",
              " 'the stylus is excellent it works as well as described in other reviews my only peeve with it is the pen doesn t fully retract into the stylus so while using it you occasionally write on your hand i would probably like it better if it didn t have a pen so far i have had no need for the pen i was just playing with it as i was writing this review and found that if i take it apart i can loosen the pen insert now it can fully retract however the insert isn t fully tight in the handle not a big deal since i don t use the pen i have an ipad with an incase leather cover the stylus fits nicely into the space where the cover folds and is secure when closed i was initially worried i would misplace the stylus at some point but storing it in the case works very well',\n",
              " 'bought this product about months ago and still have it today this is a sturdy pen with a metallic mesh that contacts the tablet this is built to last the pen portion of this is just a plus do not expect super accurate touch the contact point is a bit large',\n",
              " 'this is an expensive stylus so i m hesitant to give it a full on hug but i did go back and order a second one so i guess it s worthy of my love this is a very well made stylus it has a heavy comfortable feel to it i ve purchased other stylus that have a cold slippery feel to them but not this one it looks very professional and will become a favorite of yours i think it is nice because you can twist the stylus and use it as a pen as well and it has a handy clip you can use as well it does create a bit of a squeaky sound when i use it in a very quiet environment but don t notice it otherwise',\n",
              " 'i have used many stylus for my different gadgets most of them were rubber tips but when i seen this product i liked it it wasdifferent design so thought to give it a try the size of stylus is perfect it also have built in ballpoint for writing really like that the construction of stylus is metal and plastic the tip of stylus is made with very fine micro fiber based knit it feels very soft when touching tip the advantage is it has less drag on screen than rubber based stylus when you tap screen with this stylus no noise of tapping and no pressure on screen works like charms first time where you need to tap works perfectly with my ipad air and galaxy s to use ball point you have to twist the top part and ballpoint tip will appear in top portion you can write on any paper type with this ballpoint the ink color is black after use twist again and tip will go away very nice design so you don t have to worry about cap a must have stylus ballpoint combo at great price point for tablet ipad and smartphone users',\n",
              " 'works just like all the other reviewers said very happy the pen leaves a little to be desired but otherwise it s good',\n",
              " 'i have always tried to keep a stylus and a pen with me as i travel for work but always seemed to lose one or the other this gives me one device to keep attached to my ipad case with the clip and when i need either a pen or a stylus i know where it is the tip that contacts the screen is made of a unique material and is unlike the normal rubber tip that catches on the screen sometimes the material in this stylus is smooth and glides on the screen very well overall the value for the cost of this stylus pen is outstanding there are a lot of options out there most of them are ok but this one is outstanding and costs about a quarter as much as the others',\n",
              " 'this stylus works and lookss as described good price no problems i would order this again or recommend to friends',\n",
              " 'i found this stylus useful for typing on a touch screen the only problem i found was that it didn t seem to work great for moving the page around as on a web page this seemed to be more noticeable on my iphone it was a lot easier to use your finger i suppose if you have small fingers you wouldn t need a stylus at all i have not had a lot of experience using touch screens so i don t know how this compares with other makes of this products']"
            ]
          },
          "metadata": {
            "tags": []
          },
          "execution_count": 106
        }
      ]
    },
    {
      "cell_type": "code",
      "metadata": {
        "id": "7sEnNg35k1OE",
        "colab_type": "code",
        "colab": {}
      },
      "source": [
        "#creating a bag of word model, appluing the machine learning model and tranforming and predicting.\n",
        "\"\"\" we will make a table containing all the review in one column. And then we choose a specific word and count the \n",
        "number of times the specific word appeared in the review \"\"\"\n",
        "from sklearn.feature_extraction.text import CountVectorizer\n",
        "cv = CountVectorizer()\n",
        "#we can do use stemming , sorting and many other things in countvectorizer but can be more efficient doing it manually.\n",
        "X = cv.fit_transform(corpus).toarray()\n"
      ],
      "execution_count": null,
      "outputs": []
    },
    {
      "cell_type": "code",
      "metadata": {
        "id": "ZhKZrmOak1OK",
        "colab_type": "code",
        "colab": {},
        "outputId": "b817a77c-af8e-4e91-e0e6-e3591368e754"
      },
      "source": [
        "print(X[:10])"
      ],
      "execution_count": null,
      "outputs": [
        {
          "output_type": "stream",
          "text": [
            "[[0 0 0 ... 0 0 0]\n",
            " [0 0 0 ... 0 0 0]\n",
            " [0 0 0 ... 0 0 0]\n",
            " ...\n",
            " [0 0 0 ... 0 0 0]\n",
            " [0 0 0 ... 0 0 0]\n",
            " [0 0 0 ... 0 0 0]]\n"
          ],
          "name": "stdout"
        }
      ]
    },
    {
      "cell_type": "code",
      "metadata": {
        "id": "UewwN8KRk1OZ",
        "colab_type": "code",
        "colab": {},
        "outputId": "d8bf1261-97d8-4897-e5d3-ed18eb5aa175"
      },
      "source": [
        "print(X.shape)"
      ],
      "execution_count": null,
      "outputs": [
        {
          "output_type": "stream",
          "text": [
            "(49985, 30467)\n"
          ],
          "name": "stdout"
        }
      ]
    },
    {
      "cell_type": "code",
      "metadata": {
        "id": "p_s-bdUWk1Of",
        "colab_type": "code",
        "colab": {}
      },
      "source": [
        "#here we can see that the 30467 words are taken from the reviews and so we add a new parameter in countVectorizer a max_feature.\n",
        "cv = CountVectorizer(max_features = 3600)\n",
        "X = cv.fit_transform(corpus).toarray()\n",
        "y = dataset.iloc[:, 1].values\n"
      ],
      "execution_count": null,
      "outputs": []
    },
    {
      "cell_type": "code",
      "metadata": {
        "id": "aCi3f3Zbk1On",
        "colab_type": "code",
        "colab": {},
        "outputId": "0fbc86c3-889c-49bb-bfcc-cca3ff539203"
      },
      "source": [
        "print(X.shape)"
      ],
      "execution_count": null,
      "outputs": [
        {
          "output_type": "stream",
          "text": [
            "(49985, 3600)\n"
          ],
          "name": "stdout"
        }
      ]
    },
    {
      "cell_type": "code",
      "metadata": {
        "id": "bkLD4Oltk1Ot",
        "colab_type": "code",
        "colab": {},
        "outputId": "6e0b1186-0297-4bae-a53c-499ec80b7b68"
      },
      "source": [
        "print(y.shape)"
      ],
      "execution_count": null,
      "outputs": [
        {
          "output_type": "stream",
          "text": [
            "(49985,)\n"
          ],
          "name": "stdout"
        }
      ]
    },
    {
      "cell_type": "code",
      "metadata": {
        "id": "6YagRaAHk1O4",
        "colab_type": "code",
        "colab": {}
      },
      "source": [
        "\"\"\" we will train our model to predict of the review. The most common model used in Natual Language Processing are\n",
        "naive bayes decision tree and random forest. We will use here naive bayes first\"\"\" \n",
        "# Splitting the dataset into the Training set and Test set\n",
        "from sklearn.model_selection import train_test_split\n",
        "X_train, X_test, y_train, y_test = train_test_split(X, y, test_size = 0.20, random_state = 42)\n",
        "\n",
        "# Fitting Naive Bayes to the Training set\n",
        "from sklearn.naive_bayes import GaussianNB\n",
        "classifier = GaussianNB()\n",
        "classifier.fit(X_train, y_train)\n",
        "\n",
        "# Predicting the Test set results\n",
        "y_pred = classifier.predict(X_test)\n",
        "\n",
        "# Making the Confusion Matrix\n",
        "from sklearn.metrics import confusion_matrix\n",
        "cm = confusion_matrix(y_test, y_pred)"
      ],
      "execution_count": null,
      "outputs": []
    },
    {
      "cell_type": "code",
      "metadata": {
        "id": "3U64nUznk1O9",
        "colab_type": "code",
        "colab": {}
      },
      "source": [
        "print(cm)"
      ],
      "execution_count": null,
      "outputs": []
    },
    {
      "cell_type": "code",
      "metadata": {
        "id": "6RO4snU2k1PC",
        "colab_type": "code",
        "colab": {},
        "outputId": "250bd494-2e75-4d6a-9816-a2a4f16ccabb"
      },
      "source": [
        "from sklearn.metrics import classification_report\n",
        "target =[\"negative add\", \"positive add\"]\n",
        "print(classification_report(y_test, y_pred, target_names=target))"
      ],
      "execution_count": null,
      "outputs": [
        {
          "output_type": "stream",
          "text": [
            "              precision    recall  f1-score   support\n",
            "\n",
            "negative add       0.52      0.31      0.39       108\n",
            "positive add       0.45      0.65      0.53        92\n",
            "\n",
            "    accuracy                           0.47       200\n",
            "   macro avg       0.48      0.48      0.46       200\n",
            "weighted avg       0.48      0.47      0.46       200\n",
            "\n"
          ],
          "name": "stdout"
        }
      ]
    },
    {
      "cell_type": "code",
      "metadata": {
        "id": "aVpCAtJOk1PM",
        "colab_type": "code",
        "colab": {}
      },
      "source": [
        "a = (48+86)/200"
      ],
      "execution_count": null,
      "outputs": []
    },
    {
      "cell_type": "code",
      "metadata": {
        "id": "NAM3-uVUk1PT",
        "colab_type": "code",
        "colab": {},
        "outputId": "c643715f-75b7-40a7-b1b2-5cc624cc9a4f"
      },
      "source": [
        "print(\"accuracy {}\\n\".format(a))"
      ],
      "execution_count": null,
      "outputs": [
        {
          "output_type": "stream",
          "text": [
            "accuracy 0.67\n",
            "\n"
          ],
          "name": "stdout"
        }
      ]
    },
    {
      "cell_type": "code",
      "metadata": {
        "id": "o5M946Ffk1Ph",
        "colab_type": "code",
        "colab": {},
        "outputId": "173fb36b-bad7-4fa9-f9fe-d9931e51aee0"
      },
      "source": [
        "#Now we will train random forest to the dataset\n",
        "from sklearn.ensemble import RandomForestClassifier\n",
        "SEED = 1\n",
        "X_train, X_test, y_train, y_test = train_test_split(X, y, test_size=0.2, random_state=SEED)\n",
        "rf = RandomForestClassifier(n_estimators=400, min_samples_leaf=0.12,max_depth = 5,  random_state=SEED)\n",
        "rf.fit(X_train, y_train)\n",
        "y_pred_rf = rf.predict(X_test)\n",
        "from sklearn.metrics import confusion_matrix\n",
        "cm_rf = confusion_matrix(y_test, y_pred_rf)\n",
        "print(cm_rf)\n"
      ],
      "execution_count": null,
      "outputs": [
        {
          "output_type": "stream",
          "text": [
            "[[  0 108]\n",
            " [  0  92]]\n"
          ],
          "name": "stdout"
        }
      ]
    },
    {
      "cell_type": "code",
      "metadata": {
        "id": "6WcgnX-Mk1Pn",
        "colab_type": "code",
        "colab": {},
        "outputId": "cb981487-83e9-43b4-d2bb-cf74dea917ac"
      },
      "source": [
        "from sklearn.metrics import classification_report\n",
        "target =[\"negative add\", \"positive add\"]\n",
        "print(classification_report(y_test, y_pred_rf, target_names=target))"
      ],
      "execution_count": null,
      "outputs": [
        {
          "output_type": "stream",
          "text": [
            "              precision    recall  f1-score   support\n",
            "\n",
            "negative add       0.00      0.00      0.00       108\n",
            "positive add       0.46      1.00      0.63        92\n",
            "\n",
            "    accuracy                           0.46       200\n",
            "   macro avg       0.23      0.50      0.32       200\n",
            "weighted avg       0.21      0.46      0.29       200\n",
            "\n"
          ],
          "name": "stdout"
        },
        {
          "output_type": "stream",
          "text": [
            "C:\\Users\\128524\\AppData\\Local\\Continuum\\anaconda3\\lib\\site-packages\\sklearn\\metrics\\classification.py:1437: UndefinedMetricWarning: Precision and F-score are ill-defined and being set to 0.0 in labels with no predicted samples.\n",
            "  'precision', 'predicted', average, warn_for)\n"
          ],
          "name": "stderr"
        }
      ]
    },
    {
      "cell_type": "code",
      "metadata": {
        "id": "bJwjBCuck1Ps",
        "colab_type": "code",
        "colab": {}
      },
      "source": [
        ""
      ],
      "execution_count": null,
      "outputs": []
    },
    {
      "cell_type": "code",
      "metadata": {
        "id": "uP258bbmk1Pz",
        "colab_type": "code",
        "colab": {}
      },
      "source": [
        ""
      ],
      "execution_count": null,
      "outputs": []
    }
  ]
}